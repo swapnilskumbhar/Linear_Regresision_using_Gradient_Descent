{
 "cells": [
  {
   "cell_type": "markdown",
   "metadata": {},
   "source": [
    "# Leanear Regression using Gradient Descent"
   ]
  },
  {
   "cell_type": "raw",
   "metadata": {},
   "source": [
    "As the name suggests we will discuss about linear regression using gradient descent. The aim of this discussion is to learn the basics of both linear regression and gradient descent and math used behind it there fore no library is used in the code. So lets get started with the Linear regression,\n",
    "Linear regression is a basic and commonly used algorithm to estimate the relationship between dependent variable and one or more independent variables, those relations are linear (thats why the name linear regression) which is represented by the line. To represent the line we generally use the slope-intercept form whose equation is "
   ]
  },
  {
   "cell_type": "markdown",
   "metadata": {},
   "source": [
    "$y = mx + b$"
   ]
  },
  {
   "cell_type": "raw",
   "metadata": {},
   "source": [
    "where m is the slope of the line and b is the y-intercept of the line."
   ]
  },
  {
   "cell_type": "markdown",
   "metadata": {},
   "source": [
    "<img src=\"./Images/slope-intercept-form.png\" />"
   ]
  },
  {
   "cell_type": "raw",
   "metadata": {},
   "source": [
    "here x is independent variable and y is the dependet variable."
   ]
  },
  {
   "cell_type": "raw",
   "metadata": {},
   "source": [
    "Lets take an example of the gold prices which have been fairly linear in the year from 1970 to 2000 as seen in below graph."
   ]
  },
  {
   "cell_type": "markdown",
   "metadata": {},
   "source": [
    "<img src=\"./Images/only_gold.png\" />"
   ]
  },
  {
   "cell_type": "raw",
   "metadata": {},
   "source": [
    "And If we have to draw a line intuitively then that line will be,"
   ]
  },
  {
   "cell_type": "markdown",
   "metadata": {},
   "source": [
    "<img src=\"./Images/Final_output.png\"/>"
   ]
  },
  {
   "cell_type": "raw",
   "metadata": {},
   "source": [
    "So how does our intuition worked here ? well, I would say \"I have drawn a line which is closest to all the points on the graph.\" Ok, using our intuition helped us here, but how to findout that nearly perfect line with using mathematics ? for that we have to know 2 things first is Error and the second is how to minimize the error. So lets talk about the first thing,\n",
    "Error - \n",
    "Is the difference between our predicted output and expected output, sometimes it is referred as the loss and for calculating loss different methods can be used. We have used the sum of squared error whose equation is"
   ]
  },
  {
   "cell_type": "markdown",
   "metadata": {},
   "source": [
    "<img src=\"./Images/SumOfSquare.png\" />"
   ]
  },
  {
   "cell_type": "raw",
   "metadata": {},
   "source": [
    "where  \n",
    "    Yi means actual value\n",
    "\tm is the slope of the line\n",
    "\tb is the y intersept\n",
    "\tN is the number of the datapoints\n",
    "So If we plot the graph of slope, y-intersept with the error then the graph will look something like,"
   ]
  },
  {
   "cell_type": "markdown",
   "metadata": {},
   "source": [
    "<img src=\"./Images/gradient_descent_error_surface.png\" /> "
   ]
  },
  {
   "cell_type": "raw",
   "metadata": {},
   "source": [
    "So we have to findout the value of the m and b where error is minimum. (thats what we did intuitively) \n",
    "But while solving the problem we can not calculate the value of the error for every m and b as it will take exponential time so for finding those optimum values we have used an algorithm named gradient descent. \n",
    "(For understanding this algorithm you need to understand the calculus so I suggest you watch the Essense of calculus series by 3blue1brown on youtube) \n",
    "This algorithm is based on the concept that if we take the derivative of a curve at a certain point then the value we get is the slope of the line which is tangent to that curve. The slope value is known as gradient. Then with the gradient we decide whether to increase or decrease the input value. but if you have more than 1 variable in your loss function then to calculate the gradient with respect to each variable use partial derivatives.\n",
    "Here we have two variables in out equation one is m and second is b. So we need to calculate the gradient with respect to each of them with partial derivative which looks like,"
   ]
  },
  {
   "cell_type": "markdown",
   "metadata": {},
   "source": [
    "<img src=\"./Images/sum_of_square_gradient.png\" />"
   ]
  },
  {
   "cell_type": "raw",
   "metadata": {},
   "source": [
    "After calculating the gradients, update the values of the m and b. While updating if we subtract the values directly then our optimal values may miss so we need a multiplier, that multiplier is known as learning rate. we can define the learning rate as how much and how fast we are updating the values based on the gradient calculated. If the learning rate is too large then we may miss the optimal values of the m and b and if that is too small it will take much time to findout optimal values."
   ]
  },
  {
   "cell_type": "raw",
   "metadata": {},
   "source": [
    "Now the essential part is done, lets move towards the code."
   ]
  },
  {
   "cell_type": "code",
   "execution_count": 2,
   "metadata": {},
   "outputs": [
    {
     "name": "stdout",
     "output_type": "stream",
     "text": [
      " b =  4.883462819066873  m =  146.503884572006\n",
      " predicted price is  5132.5194228392775\n"
     ]
    },
    {
     "data": {
      "image/png": "[encoded data removed]",
      "text/plain": [
       "<Figure size 432x288 with 1 Axes>"
      ]
     },
     "metadata": {
      "needs_background": "light"
     },
     "output_type": "display_data"
    }
   ],
   "source": [
    "import pandas as pd\n",
    "import matplotlib.pyplot as plt\n",
    "import numpy as np\n",
    "\n",
    "#For plotiing the line on the graph\n",
    "def plotLines(b,m,axs,xi):\n",
    "    y = (np.array(np.array(xi)*m) + b)\n",
    "    plt.plot(np.array(axs),y)\n",
    "#For prediction of next price\n",
    "def predict_next_price(b,m,x):\n",
    "    return (x*m + b)\n",
    "#Minimizing the loss using gradienct descent algorithm\n",
    "def calculate_gradient_descent(x,y,learning_rate,iterations):\n",
    "    b = 0 #initial value of Y intercept\n",
    "    m = 0 #initial valur of slope of line\n",
    "    for iter_no in range(iterations): #going through all the data points multiple times\n",
    "        for i in range(len(x)):\n",
    "            b_gradient = 0\n",
    "            m_gradient = 0\n",
    "            x_current = x[i]\n",
    "            y_current = y[i]\n",
    "            N = len(x)\n",
    "            #formula for the partial derivative of error function with respect to b\n",
    "            b_gradient += -(2/N) * (y_current - ((m * x_current)+b)) \n",
    "            #formula for the partial derivative of error function with respect to m\n",
    "            m_gradient += -(2/N) * x_current * (y_current - ((m * x_current)+b))\n",
    "        #updating the values\n",
    "        b -= (learning_rate * b_gradient) \n",
    "        m -= (learning_rate * m_gradient)\n",
    "    plotLines(b,m,np.array(x)+1970,x)\n",
    "    return [b,m]\n",
    "\n",
    "def run():\n",
    "    #reading from csv file\n",
    "    year_price = pd.read_csv('GoldPricesIndia.csv')\n",
    "\n",
    "    axs = np.array(year_price[\"year\"])\n",
    "    #plotting the datapoints\n",
    "    plt.plot(axs,\"price\",\"ro\",data=year_price)\n",
    "    axs = np.array(axs) - 1970\n",
    "    #no. of times we have to go through data points\n",
    "    epochs = 1000\n",
    "\n",
    "    #here x_point,y_point - co-ordinates of the points from the dataset\n",
    "    #How fast the values should be updated\n",
    "    learning_rate = 0.0001\n",
    "    [b,m] = calculate_gradient_descent(np.array(axs), year_price[\"price\"] ,learning_rate, epochs)\n",
    "    print(\" b = \",b,\" m = \",m)\n",
    "    #For prediction\n",
    "    pred_year = 2005\n",
    "    pred_price = predict_next_price(b,m,pred_year-1970)\n",
    "    print(\" predicted price is \",pred_price)\n",
    "\n",
    "run()\n"
   ]
  }
 ],
 "metadata": {
  "kernelspec": {
   "display_name": "Python 3",
   "language": "python",
   "name": "python3"
  },
  "language_info": {
   "codemirror_mode": {
    "name": "ipython",
    "version": 3
   },
   "file_extension": ".py",
   "mimetype": "text/x-python",
   "name": "python",
   "nbconvert_exporter": "python",
   "pygments_lexer": "ipython3",
   "version": "3.6.7"
  }
 },
 "nbformat": 4,
 "nbformat_minor": 2
}
